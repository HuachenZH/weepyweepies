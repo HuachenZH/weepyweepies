{
 "cells": [
  {
   "cell_type": "markdown",
   "metadata": {},
   "source": [
    "# Edge detection (different solutions)"
   ]
  },
  {
   "cell_type": "markdown",
   "metadata": {},
   "source": [
    "## Try the classic PIL edge detection"
   ]
  },
  {
   "cell_type": "code",
   "execution_count": 3,
   "metadata": {},
   "outputs": [
    {
     "name": "stdout",
     "output_type": "stream",
     "text": [
      "<class 'PIL.Image.Image'>\n"
     ]
    }
   ],
   "source": [
    "from PIL import Image, ImageFilter\n",
    " \n",
    " \n",
    "image = Image.open(\"../data/anae_cropped.jpg\")\n",
    " \n",
    "# Converting the image to grayscale, as edge detection \n",
    "# requires input image to be of mode = Grayscale (L)\n",
    "image = image.convert(\"L\")\n",
    " \n",
    "# Detecting Edges on the Image using the argument ImageFilter.FIND_EDGES\n",
    "image = image.filter(ImageFilter.FIND_EDGES)\n",
    "print(type(image))\n",
    " \n",
    "# Saving the Image Under the name Edge_Sample.png\n",
    "image.save(\"../data/anae_edge.jfif\")"
   ]
  },
  {
   "cell_type": "markdown",
   "metadata": {},
   "source": [
    "## Try cv2 canny"
   ]
  },
  {
   "cell_type": "code",
   "execution_count": 2,
   "metadata": {},
   "outputs": [
    {
     "name": "stdout",
     "output_type": "stream",
     "text": [
      "<class 'numpy.ndarray'>\n"
     ]
    }
   ],
   "source": [
    "import cv2\n",
    "\n",
    "# Read the original image\n",
    "img = cv2.imread('../data/anae.jfif',flags=0)  \n",
    "print(type(img))\n",
    "\n",
    "# Blur the image for better edge detection\n",
    "img_blur = cv2.GaussianBlur(img,(1,1), sigmaX=0, sigmaY=0) \n",
    "#cv2.imshow('Gauss blur', img_blur)\n",
    "\n",
    "# Canny Edge Detection\n",
    "edges = cv2.Canny(image=img_blur, threshold1=100, threshold2=200) \n",
    "# Display Canny Edge Detection Image\n",
    "cv2.imshow('Canny Edge Detection', edges)\n",
    "cv2.waitKey(0)"
   ]
  },
  {
   "cell_type": "code",
   "execution_count": 4,
   "metadata": {},
   "outputs": [],
   "source": [
    "# closing all open windows \n",
    "cv2.destroyAllWindows() "
   ]
  }
 ],
 "metadata": {
  "kernelspec": {
   "display_name": "weepyweepies",
   "language": "python",
   "name": "python3"
  },
  "language_info": {
   "codemirror_mode": {
    "name": "ipython",
    "version": 3
   },
   "file_extension": ".py",
   "mimetype": "text/x-python",
   "name": "python",
   "nbconvert_exporter": "python",
   "pygments_lexer": "ipython3",
   "version": "3.11.4"
  }
 },
 "nbformat": 4,
 "nbformat_minor": 2
}
